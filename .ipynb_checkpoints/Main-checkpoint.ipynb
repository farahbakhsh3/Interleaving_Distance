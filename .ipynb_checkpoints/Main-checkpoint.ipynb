{
 "cells": [
  {
   "cell_type": "code",
   "execution_count": 26,
   "metadata": {},
   "outputs": [],
   "source": [
    "from anytree import Node, RenderTree, NodeMixin\n",
    "import math\n",
    "from anytree.search import find\n",
    "from anytree.exporter import DotExporter\n",
    "import pandas as pd\n",
    "from tqdm import tqdm\n"
   ]
  },
  {
   "cell_type": "code",
   "execution_count": 45,
   "metadata": {},
   "outputs": [],
   "source": [
    "class Tree():  # Just an example of a base class\n",
    "    \n",
    "    def make_tree(self, csv_file):\n",
    "        df= pd.read_csv(csv_file)\n",
    "        with tqdm(total= len(df.index)) as pbar:\n",
    "            for node_no, x, y, parent in zip(df['Node_No'], df['X'], df['Y'], df['Parent_No']):\n",
    "                if parent == -1:\n",
    "                    root= MyNode2(node_no, x, y, parent=None)\n",
    "                else:\n",
    "                    x= MyNode2(node_no, x, y, parent=find(root, lambda node: node.name == parent))\n",
    "                pbar.update(1)\n",
    "        self.root = root\n",
    "    \n",
    "    \n",
    "    def make_merge_tree(self):\n",
    "        pass\n",
    "\n",
    "\n",
    "class MyNode2(Tree, NodeMixin): \n",
    "    def __init__(self, id, x, y, distance=None, parent=None, children=None):\n",
    "        super(MyNode2, self).__init__()\n",
    "        self.name = id\n",
    "        self.X = x\n",
    "        self.Y = y\n",
    "        self.Distance = distance\n",
    "        self.parent = parent\n",
    "        if children:  \n",
    "            self.children = children\n"
   ]
  },
  {
   "cell_type": "code",
   "execution_count": 46,
   "metadata": {},
   "outputs": [
    {
     "name": "stderr",
     "output_type": "stream",
     "text": [
      "100%|█████████████████████████████████████████████████████████████████████████████| 5392/5392 [00:29<00:00, 184.46it/s]\n"
     ]
    }
   ],
   "source": [
    "tree1= Tree()\n",
    "tree1.make_tree('test.csv')"
   ]
  },
  {
   "cell_type": "code",
   "execution_count": 25,
   "metadata": {},
   "outputs": [],
   "source": [
    "DotExporter(tree1.root).to_picture(\"tree1_root.png\")"
   ]
  },
  {
   "cell_type": "code",
   "execution_count": 47,
   "metadata": {},
   "outputs": [
    {
     "name": "stderr",
     "output_type": "stream",
     "text": [
      "100%|█████████████████████████████████████████████████████████████████████████████| 5392/5392 [00:28<00:00, 188.61it/s]\n"
     ]
    }
   ],
   "source": [
    "tree2= Tree()\n",
    "tree2.make_tree('test.csv')"
   ]
  },
  {
   "cell_type": "code",
   "execution_count": null,
   "metadata": {},
   "outputs": [],
   "source": []
  }
 ],
 "metadata": {
  "kernelspec": {
   "display_name": "Python 3",
   "language": "python",
   "name": "python3"
  },
  "language_info": {
   "codemirror_mode": {
    "name": "ipython",
    "version": 3
   },
   "file_extension": ".py",
   "mimetype": "text/x-python",
   "name": "python",
   "nbconvert_exporter": "python",
   "pygments_lexer": "ipython3",
   "version": "3.7.6"
  }
 },
 "nbformat": 4,
 "nbformat_minor": 4
}
