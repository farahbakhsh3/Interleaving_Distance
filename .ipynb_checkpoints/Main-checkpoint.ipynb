{
 "cells": [
  {
   "cell_type": "code",
   "execution_count": 2,
   "metadata": {},
   "outputs": [],
   "source": [
    "from anytree import Node, RenderTree, NodeMixin\n",
    "import math\n"
   ]
  },
  {
   "cell_type": "code",
   "execution_count": 28,
   "metadata": {},
   "outputs": [],
   "source": [
    "class Tree(object):  # Just an example of a base class\n",
    "    \n",
    "    def SetNode(self, id, x, y, distance=None, parent=None, children=None):\n",
    "        return MyNode2(id, x, y, distance=None, parent=None, children=None)\n",
    "    \n",
    "    def Calc_dist(self):\n",
    "        pass\n",
    "\n",
    "\n",
    "class MyNode2(Tree, NodeMixin):  # Add Node feature\n",
    "    def __init__(self, id, x, y, distance=None, parent=None, children=None):\n",
    "        super(MyNode2, self).__init__()\n",
    "        self.Id = id\n",
    "        self.X = x\n",
    "        self.Y = y\n",
    "        self.Distance = distance\n",
    "        self.parent = parent\n",
    "        if children:  # set children only if given\n",
    "            self.children = children\n"
   ]
  },
  {
   "cell_type": "code",
   "execution_count": 29,
   "metadata": {},
   "outputs": [],
   "source": [
    "tree= Tree()"
   ]
  }
 ],
 "metadata": {
  "kernelspec": {
   "display_name": "Python 3",
   "language": "python",
   "name": "python3"
  },
  "language_info": {
   "codemirror_mode": {
    "name": "ipython",
    "version": 3
   },
   "file_extension": ".py",
   "mimetype": "text/x-python",
   "name": "python",
   "nbconvert_exporter": "python",
   "pygments_lexer": "ipython3",
   "version": "3.7.6"
  }
 },
 "nbformat": 4,
 "nbformat_minor": 4
}
