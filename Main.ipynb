{
 "cells": [
  {
   "cell_type": "code",
   "execution_count": 67,
   "metadata": {},
   "outputs": [],
   "source": [
    "from anytree import Node, RenderTree, NodeMixin\n",
    "import math\n",
    "from anytree.search import find\n",
    "from anytree.exporter import DotExporter\n"
   ]
  },
  {
   "cell_type": "code",
   "execution_count": 68,
   "metadata": {},
   "outputs": [],
   "source": [
    "class Tree(object):  # Just an example of a base class\n",
    "    \n",
    "    def SetNode(self, id, x, y, distance=None, parent=None, children=None):\n",
    "        return MyNode2(id, x, y, distance=None, parent=None, children=None)\n",
    "    \n",
    "    def Calc_dist(self):\n",
    "        pass\n",
    "\n",
    "\n",
    "class MyNode2(Tree, NodeMixin):  # Add Node feature\n",
    "    def __init__(self, id, x, y, distance=None, parent=None, children=None):\n",
    "        super(MyNode2, self).__init__()\n",
    "        self.name = id\n",
    "        self.X = x\n",
    "        self.Y = y\n",
    "        self.Distance = distance\n",
    "        self.parent = parent\n",
    "        if children:  # set children only if given\n",
    "            self.children = children\n"
   ]
  },
  {
   "cell_type": "code",
   "execution_count": 69,
   "metadata": {},
   "outputs": [],
   "source": [
    "df= pd.read_csv('test.csv')\n",
    "for node_no, x, y, parent in zip(df['Node_No'], df['X'], df['Y'], df['Parent_No']):\n",
    "    if parent == -1:\n",
    "        root= MyNode2(node_no, x, y, parent=None)\n",
    "    else:\n",
    "        x= MyNode2(node_no, x, y, parent=find(root, lambda node: node.name == parent))\n"
   ]
  },
  {
   "cell_type": "code",
   "execution_count": 71,
   "metadata": {},
   "outputs": [],
   "source": [
    "DotExporter(root).to_picture(\"root.png\")"
   ]
  },
  {
   "cell_type": "code",
   "execution_count": null,
   "metadata": {},
   "outputs": [],
   "source": []
  }
 ],
 "metadata": {
  "kernelspec": {
   "display_name": "Python 3",
   "language": "python",
   "name": "python3"
  },
  "language_info": {
   "codemirror_mode": {
    "name": "ipython",
    "version": 3
   },
   "file_extension": ".py",
   "mimetype": "text/x-python",
   "name": "python",
   "nbconvert_exporter": "python",
   "pygments_lexer": "ipython3",
   "version": "3.7.6"
  }
 },
 "nbformat": 4,
 "nbformat_minor": 4
}
